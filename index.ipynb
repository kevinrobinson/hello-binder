{
 "cells": [
  {
   "cell_type": "code",
   "execution_count": 2,
   "metadata": {
    "collapsed": false
   },
   "outputs": [
    {
     "name": "stdout",
     "output_type": "stream",
     "text": [
      "timer: ('start', 1449423117.102322)\n"
     ]
    }
   ],
   "source": [
    "# compute\n",
    "timers = []\n",
    "\n",
    "import time\n",
    "def add_timer(note):\n",
    "  timer = (note, time.time())\n",
    "  print \"timer:\", timer\n",
    "  timers.append(timer)\n",
    "\n",
    "add_timer('start')"
   ]
  },
  {
   "cell_type": "code",
   "execution_count": 3,
   "metadata": {
    "collapsed": true
   },
   "outputs": [],
   "source": [
    "import os\n",
    "from six.moves import urllib\n",
    "\n",
    "url = 'http://mattmahoney.net/dc/'\n",
    "def maybe_download(filename, expected_bytes):\n",
    "  \"\"\"Download a file if not present, and make sure it's the right size.\"\"\"\n",
    "  if not os.path.exists(filename):\n",
    "    filename, _ = urllib.request.urlretrieve(url + filename, filename)\n",
    "  statinfo = os.stat(filename)\n",
    "  if statinfo.st_size == expected_bytes:\n",
    "    print('Found and verified', filename)\n",
    "  else:\n",
    "    print(statinfo.st_size)\n",
    "    raise Exception(\n",
    "        'Failed to verify ' + filename + '. Can you get to it with a browser?')\n",
    "  return filename"
   ]
  },
  {
   "cell_type": "code",
   "execution_count": 6,
   "metadata": {
    "collapsed": false
   },
   "outputs": [],
   "source": [
    "# uncomment to download data\n",
    "# filename = maybe_download('./data/text8.zip', 31344016)\n",
    "# add_timer('maybe_downloaded')\n",
    "# print filename\n"
   ]
  },
  {
   "cell_type": "code",
   "execution_count": 7,
   "metadata": {
    "collapsed": true
   },
   "outputs": [],
   "source": [
    "import zipfile\n",
    "\n",
    "# Read the data into a string.\n",
    "def read_data(filename):\n",
    "  f = zipfile.ZipFile(filename)\n",
    "  for name in f.namelist():\n",
    "    return f.read(name).split()\n",
    "  f.close()\n",
    "\n",
    "    "
   ]
  },
  {
   "cell_type": "code",
   "execution_count": 9,
   "metadata": {
    "collapsed": false
   },
   "outputs": [
    {
     "name": "stdout",
     "output_type": "stream",
     "text": [
      "timer: ('read_data', 1449423162.37027)\n"
     ]
    }
   ],
   "source": [
    "words = read_data('data/text8.zip')\n",
    "add_timer('read_data')"
   ]
  },
  {
   "cell_type": "code",
   "execution_count": 10,
   "metadata": {
    "collapsed": false
   },
   "outputs": [
    {
     "name": "stdout",
     "output_type": "stream",
     "text": [
      "('Data size', 17005207)\n"
     ]
    }
   ],
   "source": [
    "print('Data size', len(words))\n"
   ]
  },
  {
   "cell_type": "code",
   "execution_count": 11,
   "metadata": {
    "collapsed": false
   },
   "outputs": [
    {
     "data": {
      "text/plain": [
       "['anarchism',\n",
       " 'originated',\n",
       " 'as',\n",
       " 'a',\n",
       " 'term',\n",
       " 'of',\n",
       " 'abuse',\n",
       " 'first',\n",
       " 'used',\n",
       " 'against']"
      ]
     },
     "execution_count": 11,
     "metadata": {},
     "output_type": "execute_result"
    }
   ],
   "source": [
    "words[:10]"
   ]
  },
  {
   "cell_type": "code",
   "execution_count": 12,
   "metadata": {
    "collapsed": true
   },
   "outputs": [],
   "source": [
    "vocabulary_size = 50000"
   ]
  },
  {
   "cell_type": "code",
   "execution_count": 13,
   "metadata": {
    "collapsed": true
   },
   "outputs": [],
   "source": [
    "import collections\n",
    "\n",
    "def build_dataset(words):\n",
    "  count = [['UNK', -1]]\n",
    "  count.extend(collections.Counter(words).most_common(vocabulary_size - 1))\n",
    "  dictionary = dict()\n",
    "  for word, _ in count:\n",
    "    dictionary[word] = len(dictionary)\n",
    "  data = list()\n",
    "  unk_count = 0\n",
    "  for word in words:\n",
    "    if word in dictionary:\n",
    "      index = dictionary[word]\n",
    "    else:\n",
    "      index = 0  # dictionary['UNK']\n",
    "      unk_count = unk_count + 1\n",
    "    data.append(index)\n",
    "  count[0][1] = unk_count\n",
    "  reverse_dictionary = dict(zip(dictionary.values(), dictionary.keys()))\n",
    "  return data, count, dictionary, reverse_dictionary\n"
   ]
  },
  {
   "cell_type": "code",
   "execution_count": 14,
   "metadata": {
    "collapsed": true
   },
   "outputs": [],
   "source": [
    "data, count, dictionary, reverse_dictionary = build_dataset(words)"
   ]
  },
  {
   "cell_type": "code",
   "execution_count": 15,
   "metadata": {
    "collapsed": false
   },
   "outputs": [
    {
     "name": "stdout",
     "output_type": "stream",
     "text": [
      "timer: ('build_dataset_done', 1449423182.974141)\n"
     ]
    }
   ],
   "source": [
    "add_timer('build_dataset_done')"
   ]
  },
  {
   "cell_type": "code",
   "execution_count": 16,
   "metadata": {
    "collapsed": false
   },
   "outputs": [
    {
     "data": {
      "text/plain": [
       "[('fawn', 45848),\n",
       " ('homomorphism', 9648),\n",
       " ('nordisk', 39343),\n",
       " ('nunnery', 36075),\n",
       " ('chthonic', 33554)]"
      ]
     },
     "execution_count": 16,
     "metadata": {},
     "output_type": "execute_result"
    }
   ],
   "source": [
    "import itertools\n",
    "list(itertools.islice(dictionary.items(), 5))"
   ]
  },
  {
   "cell_type": "code",
   "execution_count": 17,
   "metadata": {
    "collapsed": false
   },
   "outputs": [
    {
     "data": {
      "text/plain": [
       "[(0, 'UNK'), (1, 'the'), (2, 'of'), (3, 'and'), (4, 'one')]"
      ]
     },
     "execution_count": 17,
     "metadata": {},
     "output_type": "execute_result"
    }
   ],
   "source": [
    "list(itertools.islice(reverse_dictionary.items(), 5))"
   ]
  },
  {
   "cell_type": "code",
   "execution_count": 18,
   "metadata": {
    "collapsed": false
   },
   "outputs": [
    {
     "data": {
      "text/plain": [
       "['anarchism', 'originated', 'as', 'a', 'term', 'of', 'abuse', 'first']"
      ]
     },
     "execution_count": 18,
     "metadata": {},
     "output_type": "execute_result"
    }
   ],
   "source": [
    "list(map(lambda x: reverse_dictionary[x], data[:8]))"
   ]
  },
  {
   "cell_type": "code",
   "execution_count": 19,
   "metadata": {
    "collapsed": false
   },
   "outputs": [
    {
     "name": "stdout",
     "output_type": "stream",
     "text": [
      "('Most common words (+UNK)', [['UNK', 418391], ('the', 1061396), ('of', 593677), ('and', 416629), ('one', 411764)])\n"
     ]
    }
   ],
   "source": [
    "print('Most common words (+UNK)', count[:5])"
   ]
  },
  {
   "cell_type": "code",
   "execution_count": 20,
   "metadata": {
    "collapsed": false
   },
   "outputs": [
    {
     "name": "stdout",
     "output_type": "stream",
     "text": [
      "('Sample data', [5239, 3084, 12, 6, 195, 2, 3137, 46, 59, 156])\n"
     ]
    }
   ],
   "source": [
    "print('Sample data', data[:10])"
   ]
  },
  {
   "cell_type": "code",
   "execution_count": 21,
   "metadata": {
    "collapsed": true
   },
   "outputs": [],
   "source": [
    "import numpy as np\n",
    "import random\n",
    "\n",
    "# Step 4: Function to generate a training batch for the skip-gram model.\n",
    "def generate_batch(batch_size, num_skips, skip_window):\n",
    "  global data_index\n",
    "  assert batch_size % num_skips == 0\n",
    "  assert num_skips <= 2 * skip_window\n",
    "  random.seed(42)\n",
    "    \n",
    "  batch = np.ndarray(shape=(batch_size), dtype=np.int32)\n",
    "  labels = np.ndarray(shape=(batch_size, 1), dtype=np.int32)\n",
    "  span = 2 * skip_window + 1 # [ skip_window target skip_window ]\n",
    "  buffer = collections.deque(maxlen=span)\n",
    "  for _ in range(span):\n",
    "    buffer.append(data[data_index])\n",
    "    data_index = (data_index + 1) % len(data)\n",
    "  for i in range(batch_size // num_skips):\n",
    "    target = skip_window  # target label at the center of the buffer\n",
    "    targets_to_avoid = [ skip_window ]\n",
    "    for j in range(num_skips):\n",
    "      while target in targets_to_avoid:\n",
    "        target = random.randint(0, span - 1)\n",
    "      targets_to_avoid.append(target)\n",
    "      batch[i * num_skips + j] = buffer[skip_window]\n",
    "      labels[i * num_skips + j, 0] = buffer[target]\n",
    "    buffer.append(data[data_index])\n",
    "    data_index = (data_index + 1) % len(data)\n",
    "  return batch, labels"
   ]
  },
  {
   "cell_type": "code",
   "execution_count": 22,
   "metadata": {
    "collapsed": false
   },
   "outputs": [
    {
     "name": "stdout",
     "output_type": "stream",
     "text": [
      "(12, '->', 6)\n",
      "('as', '->', 'a')\n",
      "(12, '->', 5239)\n",
      "('as', '->', 'anarchism')\n",
      "(12, '->', 3084)\n",
      "('as', '->', 'originated')\n",
      "(12, '->', 195)\n",
      "('as', '->', 'term')\n",
      "(6, '->', 3084)\n",
      "('a', '->', 'originated')\n",
      "(6, '->', 12)\n",
      "('a', '->', 'as')\n",
      "(6, '->', 195)\n",
      "('a', '->', 'term')\n",
      "(6, '->', 2)\n",
      "('a', '->', 'of')\n"
     ]
    }
   ],
   "source": [
    "data_index = 0\n",
    "batch, labels = generate_batch(batch_size=8, num_skips=4, skip_window=2)\n",
    "for i in range(8):\n",
    "  print(batch[i], '->', labels[i, 0])\n",
    "  print(reverse_dictionary[batch[i]], '->', reverse_dictionary[labels[i, 0]])\n"
   ]
  },
  {
   "cell_type": "code",
   "execution_count": 23,
   "metadata": {
    "collapsed": true
   },
   "outputs": [],
   "source": [
    "import tensorflow as tf\n"
   ]
  },
  {
   "cell_type": "code",
   "execution_count": 24,
   "metadata": {
    "collapsed": true
   },
   "outputs": [],
   "source": [
    "# model hyper parameters\n",
    "batch_size = 128\n",
    "embedding_size = 128  # Dimension of the embedding vector.\n",
    "skip_window = 2       # How many words to consider left and right.\n",
    "num_skips = 2         # How many times to reuse an input to generate a label.\n",
    "\n",
    "tf.set_random_seed(42)\n",
    "num_steps = 100001\n"
   ]
  },
  {
   "cell_type": "code",
   "execution_count": 25,
   "metadata": {
    "collapsed": false,
    "scrolled": true
   },
   "outputs": [
    {
     "name": "stdout",
     "output_type": "stream",
     "text": [
      "often seven people war american history world government music language french church popular science island film\n"
     ]
    }
   ],
   "source": [
    "# valid_size = 64     # Random set of words to evaluate similarity on.\n",
    "# valid_window = 300  # Only pick dev samples in the head of the distribution.\n",
    "# valid_examples = np.array(random.sample(np.arange(valid_window), valid_size))\n",
    "valid_examples = map(lambda word: dictionary[word], ['often', 'seven', 'people', 'war', 'american', 'history', 'world', 'government', 'music', 'language', 'french', 'church', 'popular', 'science', 'island', 'film'])\n",
    "num_sampled = 64    # Number of negative examples to sample.\n",
    "\n",
    "print \" \".join(list(map(lambda x: reverse_dictionary[x], valid_examples)))"
   ]
  },
  {
   "cell_type": "code",
   "execution_count": 26,
   "metadata": {
    "collapsed": false
   },
   "outputs": [],
   "source": [
    "import math \n",
    "\n",
    "# Compute the average NCE loss for the batch.\n",
    "# tf.nce_loss automatically draws a new sample of the negative labels each\n",
    "# time we evaluate the loss.\n",
    "def nce_loss_fn(inputs_as_embeddings, labels, vocabulary_size, embedding_size, num_sampled):\n",
    "  # create weights for each word -> embedding, no bias towards any particular word\n",
    "  nce_weights = tf.Variable(tf.truncated_normal([vocabulary_size, embedding_size], stddev=1.0 / math.sqrt(embedding_size)))\n",
    "  nce_biases = tf.Variable(tf.zeros([vocabulary_size]))\n",
    "\n",
    "  nce_loss = tf.nn.nce_loss(nce_weights, nce_biases, inputs_as_embeddings, labels, num_sampled, vocabulary_size)\n",
    "  return tf.reduce_mean(nce_loss)"
   ]
  },
  {
   "cell_type": "code",
   "execution_count": 27,
   "metadata": {
    "collapsed": false
   },
   "outputs": [],
   "source": [
    "graph = tf.Graph()\n",
    "with graph.as_default():\n",
    "  tf.set_random_seed(42)\n",
    "  \n",
    "  # Input data.\n",
    "  train_inputs = tf.placeholder(tf.int32, shape=[batch_size], name='train_inputs')\n",
    "  train_labels = tf.placeholder(tf.int32, shape=[batch_size, 1], name='train_labels')\n",
    "  valid_dataset = tf.constant(valid_examples, dtype=tf.int32, name='valid_dataset')\n",
    "\n",
    "  # Construct the variables for embeddings\n",
    "  embeddings = tf.Variable(tf.random_uniform([vocabulary_size, embedding_size], -1.0, 1.0), name='embeddings')\n",
    "  input_embeddings = tf.nn.embedding_lookup(embeddings, train_inputs)\n",
    "\n",
    "  # Define the loss function, and learning rate for descent\n",
    "  loss = nce_loss_fn(input_embeddings, train_labels, vocabulary_size, embedding_size, num_sampled)\n",
    "  optimizer = tf.train.GradientDescentOptimizer(1.0).minimize(loss)\n",
    "  tf.scalar_summary(\"loss\", loss)\n",
    "  \n",
    "  # For evaluating progress, compute the cosine similarity between minibatch\n",
    "  # examples and all embeddings.\n",
    "  norm = tf.sqrt(tf.reduce_sum(tf.square(embeddings), 1, keep_dims=True))\n",
    "  normalized_embeddings = embeddings / norm\n",
    "  valid_embeddings = tf.nn.embedding_lookup(normalized_embeddings, valid_dataset)\n",
    "  similarity = tf.matmul(valid_embeddings, normalized_embeddings, transpose_b=True)"
   ]
  },
  {
   "cell_type": "code",
   "execution_count": null,
   "metadata": {
    "collapsed": false
   },
   "outputs": [
    {
     "name": "stdout",
     "output_type": "stream",
     "text": [
      "base_filename: output-basic/_word2vec_model_num_steps_100001_embedding_size_128_skip_window_2__ts_1449427134.38_\n",
      "timer: ('start_training', 1449427134.384286)\n",
      "Initialized\n",
      "('Average loss at step ', 0, ': ', 270.50958251953125)\n",
      "Nearest to often: undisclosed, carbides, yoshi, macs, unconsciousness, gymnastics, svante, repeating,\n",
      "Nearest to seven: faunas, schiff, bitrate, transshipment, fairey, microscope, waterfalls, merz,\n",
      "Nearest to people: halloween, madero, ammunition, superceded, melting, palermo, regolith, granger,\n",
      "Nearest to war: helmut, eyelashes, rss, encumbered, mcgill, whipped, retreat, profusion,\n",
      "Nearest to american: qualia, diocletian, bmx, rejoin, frege, softness, tombaugh, onlookers,\n",
      "Nearest to history: standard, standing, maibock, sacra, clamps, stags, zz, peruvian,\n",
      "Nearest to world: stenosis, transcend, lorry, langevin, collegium, mockery, loomis, templars,\n",
      "Nearest to government: spirit, turn, direction, dweller, athleticism, recant, abkhazian, bark,\n",
      "Nearest to music: uc, ehrlich, dominos, bleeding, providers, malfunctions, details, nate,\n",
      "Nearest to language: boyd, convolutions, mellon, unpaid, parti, lifton, mario, uae,\n",
      "Nearest to french: rosslyn, palestinians, angela, minimise, treat, kemp, brim, disoriented,\n",
      "Nearest to church: biotechnology, dosage, yo, strangled, averted, rs, pcs, reisman,\n",
      "Nearest to popular: junkie, entrenchment, separate, glycolipids, archetypical, jak, transylvania, untitled,\n",
      "Nearest to science: iit, screws, guile, kearney, bundle, polonius, matador, sextus,\n",
      "Nearest to island: jerseys, helaman, okay, plague, desilu, deny, engenders, avc,\n",
      "Nearest to film: conakry, abundance, maffei, ant, caribou, vl, nbs, moods,\n",
      "('Average loss at step ', 2000, ': ', 113.67864056777954)\n",
      "('Average loss at step ', 4000, ': ', 53.499255884408953)"
     ]
    }
   ],
   "source": [
    "# Step 6: Begin training\n",
    "\n",
    "# define run filename\n",
    "import time\n",
    "ts = time.time()\n",
    "filename_parts = [\"output-basic/\", \"word2vec_model\", \"num_steps\", str(num_steps), \"embedding_size\", str(embedding_size), \"skip_window\", str(skip_window), \"_ts\", str(ts) +\"_\"]\n",
    "base_filename = \"_\".join(filename_parts)\n",
    "print \"base_filename:\", base_filename\n",
    "\n",
    "add_timer('start_training')\n",
    "with tf.Session(graph=graph) as session:\n",
    "  # We must initialize all variables before we use them.\n",
    "  session.run(tf.initialize_all_variables())\n",
    "  print(\"Initialized\")\n",
    "  \n",
    "  # Add an op that collects all metrics for logging to TensorBoard\n",
    "  summary_op = tf.merge_all_summaries()\n",
    "  summary_writer = tf.train.SummaryWriter('summary-logs', session.graph_def)\n",
    "\n",
    "  average_loss = 0\n",
    "  for step in xrange(num_steps):\n",
    "    batch_inputs, batch_labels = generate_batch(\n",
    "        batch_size, num_skips, skip_window)\n",
    "    feed_dict = {train_inputs : batch_inputs, train_labels : batch_labels}\n",
    "\n",
    "    # We perform one update step by evaluating the optimizer op (including it\n",
    "    # in the list of returned values for session.run()\n",
    "    _, loss_val = session.run([optimizer, loss], feed_dict=feed_dict)\n",
    "    average_loss += loss_val\n",
    "\n",
    "    # log metrics for TensorBoard\n",
    "    # if step % 100 == 0:\n",
    "      # summary_str = session.run(summary_op)\n",
    "      # summary_writer.add_summary(summary_str, step)\n",
    "      \n",
    "    # print progress on optimizing for the loss function\n",
    "    if step % 2000 == 0:\n",
    "      if step > 0:\n",
    "        average_loss = average_loss / 2000\n",
    "      # The average loss is an estimate of the loss over the last 2000 batches.\n",
    "      print(\"Average loss at step \", step, \": \", average_loss)\n",
    "      average_loss = 0\n",
    "\n",
    "    # and print progress by showing top k similar words for example words\n",
    "    # note that this is expensive (~20% slowdown if computed every 500 steps)\n",
    "    if step % 10000 == 0:\n",
    "      sim = similarity.eval() # TODO(kr)\n",
    "      for i in xrange(len(valid_examples)):\n",
    "        valid_word = reverse_dictionary[valid_examples[i]]\n",
    "        top_k = 8 # number of nearest neighbors\n",
    "        nearest = (-sim[i, :]).argsort()[1:top_k+1]\n",
    "        log_str = \"Nearest to %s:\" % valid_word\n",
    "        for k in xrange(top_k):\n",
    "          close_word = reverse_dictionary[nearest[k]]\n",
    "          log_str = \"%s %s,\" % (log_str, close_word)\n",
    "        print(log_str)\n",
    "      \n",
    "  # evaluate\n",
    "  final_embeddings = normalized_embeddings.eval()\n",
    "\n",
    "  # save the variables to disk\n",
    "  saver = tf.train.Saver()\n",
    "  save_path = saver.save(session, base_filename + \"-tensorflow.ckpt\")\n",
    "  print \"Model saved in file: \", save_path\n",
    "  \n",
    "add_timer('done_training')"
   ]
  },
  {
   "cell_type": "code",
   "execution_count": 29,
   "metadata": {
    "collapsed": false
   },
   "outputs": [
    {
     "data": {
      "text/plain": [
       "'done'"
      ]
     },
     "execution_count": 29,
     "metadata": {},
     "output_type": "execute_result"
    }
   ],
   "source": [
    "\"done\""
   ]
  },
  {
   "cell_type": "code",
   "execution_count": 30,
   "metadata": {
    "collapsed": false
   },
   "outputs": [
    {
     "data": {
      "text/plain": [
       "(50000, 128)"
      ]
     },
     "execution_count": 30,
     "metadata": {},
     "output_type": "execute_result"
    }
   ],
   "source": [
    "final_embeddings.shape\n"
   ]
  },
  {
   "cell_type": "code",
   "execution_count": 31,
   "metadata": {
    "collapsed": false
   },
   "outputs": [
    {
     "data": {
      "text/plain": [
       "array([ 0.09327951,  0.0675633 ,  0.07638022,  0.01084786,  0.00456135,\n",
       "       -0.24529585,  0.08709657, -0.0151662 ,  0.01324272,  0.13557342,\n",
       "        0.00970091,  0.09643302, -0.04931212, -0.01557394,  0.10764762,\n",
       "       -0.05487974,  0.12147856, -0.03713362, -0.0539389 ,  0.02252143,\n",
       "       -0.02529177,  0.09988087, -0.09866293, -0.00554492,  0.01920186,\n",
       "        0.03700102,  0.0675026 ,  0.11687203, -0.01675863,  0.01668186,\n",
       "        0.05339017, -0.09321076, -0.0034698 ,  0.08625394, -0.11939804,\n",
       "       -0.04269625,  0.11070847, -0.08010534, -0.08460835, -0.07185863,\n",
       "        0.01373111, -0.05225307, -0.07576004, -0.05178967,  0.00348074,\n",
       "       -0.07225302, -0.02150423, -0.00599638, -0.11833259, -0.13213852,\n",
       "        0.05986469,  0.19564509, -0.07503754, -0.03587047,  0.07478563,\n",
       "        0.04252718, -0.11255414,  0.02987487,  0.05824735,  0.01388597,\n",
       "        0.11457191,  0.02706967,  0.03226966, -0.05343361, -0.01878057,\n",
       "        0.13318062,  0.06418162, -0.04671573,  0.01574231,  0.05055197,\n",
       "        0.04841901,  0.18023957,  0.0156225 , -0.14567609,  0.2002272 ,\n",
       "       -0.0334325 ,  0.04184844, -0.02219716, -0.13270587, -0.0682482 ,\n",
       "       -0.06085014, -0.02709474,  0.07536349,  0.15961905,  0.06182145,\n",
       "       -0.02127766, -0.04223968,  0.17777298,  0.10300412,  0.00570281,\n",
       "       -0.15132415,  0.04346231, -0.05063985, -0.09353015, -0.18663232,\n",
       "       -0.00950712,  0.04510355, -0.05551022, -0.08264484,  0.17195338,\n",
       "       -0.0071737 , -0.14358385,  0.01121066, -0.01446241, -0.02099741,\n",
       "       -0.02752625,  0.02099371,  0.06261909, -0.25927946, -0.04438848,\n",
       "       -0.10450811, -0.06031165, -0.08437145,  0.06968626,  0.12007321,\n",
       "        0.03928002,  0.03490281,  0.01966752,  0.12460306, -0.02999937,\n",
       "        0.05681137, -0.05115989, -0.15858053, -0.15544972, -0.01258103,\n",
       "       -0.19511326,  0.00336234,  0.07807973], dtype=float32)"
      ]
     },
     "execution_count": 31,
     "metadata": {},
     "output_type": "execute_result"
    }
   ],
   "source": [
    "final_embeddings[0]\n"
   ]
  },
  {
   "cell_type": "code",
   "execution_count": 32,
   "metadata": {
    "collapsed": false
   },
   "outputs": [],
   "source": [
    "# persist embeddings\n",
    "final_embeddings_filename = base_filename + \"-final_embeddings.npy\"\n",
    "with open(final_embeddings_filename, 'w') as f:\n",
    "  np.save(f, final_embeddings)"
   ]
  },
  {
   "cell_type": "code",
   "execution_count": 33,
   "metadata": {
    "collapsed": false
   },
   "outputs": [],
   "source": [
    "# persist dictionaries\n",
    "import pickle\n",
    "with open(base_filename + '-dictionary.pickle', 'w') as f:\n",
    "  pickle.dump(dictionary, f)\n",
    "with open(base_filename + '-reversedictionary.pickle', 'w') as f:\n",
    "  pickle.dump(reverse_dictionary, f)"
   ]
  },
  {
   "cell_type": "code",
   "execution_count": 34,
   "metadata": {
    "collapsed": false
   },
   "outputs": [],
   "source": [
    "# persist corpus\n",
    "# with open(base_filename + '-data.pickle', 'w') as f:\n",
    "#   pickle.dump(data, f)"
   ]
  },
  {
   "cell_type": "code",
   "execution_count": 35,
   "metadata": {
    "collapsed": false
   },
   "outputs": [
    {
     "name": "stdout",
     "output_type": "stream",
     "text": [
      "timer: ('completely_done', 1449424144.70646)\n",
      "('   0 seconds', 'start', 1449423117.102322)\n",
      "('  45 seconds', 'read_data', 1449423162.37027)\n",
      "('  20 seconds', 'build_dataset_done', 1449423182.974141)\n",
      "('   2 seconds', 'start_training', 1449423185.101875)\n",
      "(' 958 seconds', 'done_training', 1449424143.334667)\n",
      "('   1 seconds', 'completely_done', 1449424144.70646)\n",
      "total: 1027 seconds\n",
      "total: 17.13 minutes\n"
     ]
    }
   ],
   "source": [
    "add_timer('completely_done')\n",
    "last_ts = False\n",
    "for timer in timers:\n",
    "  note = timer[0]\n",
    "  ts = timer[1]\n",
    "  elapsed = ts - last_ts if last_ts != False else 0\n",
    "  print (str(int(elapsed)).rjust(4) + \" seconds\", note, ts)\n",
    "  last_ts = ts\n",
    "  \n",
    "print 'total: ' + str(int(timers[-1][1] - timers[0][1])) + ' seconds'\n",
    "print 'total: ' + str(round((timers[-1][1] - timers[0][1])/60, 2)) + ' minutes'"
   ]
  },
  {
   "cell_type": "code",
   "execution_count": 36,
   "metadata": {
    "collapsed": false
   },
   "outputs": [
    {
     "name": "stdout",
     "output_type": "stream",
     "text": [
      "-----------------------------------\n",
      "\n",
      "base_filename: word2vec_model_num_steps_100001_embedding_size_128_skip_window_2__ts_1449423185.1_\n",
      "final_embeddings_filename: word2vec_model_num_steps_100001_embedding_size_128_skip_window_2__ts_1449423185.1_-final_embeddings.npy\n",
      "\n",
      "-----------------------------------\n",
      "\n",
      "\n",
      "Completely done!\n"
     ]
    }
   ],
   "source": [
    "print \"-----------------------------------\"\n",
    "print\n",
    "print \"base_filename:\", base_filename\n",
    "print \"final_embeddings_filename:\", final_embeddings_filename\n",
    "print\n",
    "print \"-----------------------------------\"\n",
    "print\n",
    "print\n",
    "print \"Completely done!\""
   ]
  },
  {
   "cell_type": "code",
   "execution_count": null,
   "metadata": {
    "collapsed": true
   },
   "outputs": [],
   "source": []
  },
  {
   "cell_type": "code",
   "execution_count": null,
   "metadata": {
    "collapsed": true
   },
   "outputs": [],
   "source": []
  }
 ],
 "metadata": {
  "kernelspec": {
   "display_name": "Python 2",
   "language": "python",
   "name": "python2"
  },
  "language_info": {
   "codemirror_mode": {
    "name": "ipython",
    "version": 2
   },
   "file_extension": ".py",
   "mimetype": "text/x-python",
   "name": "python",
   "nbconvert_exporter": "python",
   "pygments_lexer": "ipython2",
   "version": "2.7.10"
  }
 },
 "nbformat": 4,
 "nbformat_minor": 0
}
